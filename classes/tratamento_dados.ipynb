{
 "cells": [
  {
   "cell_type": "code",
   "execution_count": 4,
   "metadata": {},
   "outputs": [],
   "source": [
    "import numpy as np\n",
    "import pandas as pd\n",
    "from interativo_tratamento_variaveis import InterativoTratamentoVariaveis\n",
    "from sklearn.preprocessing import StandardScaler\n",
    "from sklearn.decomposition import IncrementalPCA\n",
    "import pickle\n",
    "import constantes "
   ]
  },
  {
   "cell_type": "code",
   "execution_count": 3,
   "metadata": {},
   "outputs": [],
   "source": [
    "skip_func = lambda x: x > 0 and np.random.rand() > 0.03\n",
    "df = pd.read_csv('../BASE/IA_TUDO_EM_DIA_CONTROLE.txt', sep=';', skiprows=skip_func)"
   ]
  },
  {
   "cell_type": "code",
   "execution_count": 5,
   "metadata": {},
   "outputs": [],
   "source": [
    "df.renda = df.renda.str.replace(',', '.').astype(float)"
   ]
  },
  {
   "cell_type": "code",
   "execution_count": 6,
   "metadata": {},
   "outputs": [
    {
     "data": {
      "text/plain": [
       "426193"
      ]
     },
     "execution_count": 6,
     "metadata": {},
     "output_type": "execute_result"
    }
   ],
   "source": [
    "df.renda.count()"
   ]
  },
  {
   "cell_type": "code",
   "execution_count": 7,
   "metadata": {},
   "outputs": [
    {
     "data": {
      "text/html": [
       "<div>\n",
       "<style scoped>\n",
       "    .dataframe tbody tr th:only-of-type {\n",
       "        vertical-align: middle;\n",
       "    }\n",
       "\n",
       "    .dataframe tbody tr th {\n",
       "        vertical-align: top;\n",
       "    }\n",
       "\n",
       "    .dataframe thead th {\n",
       "        text-align: right;\n",
       "    }\n",
       "</style>\n",
       "<table border=\"1\" class=\"dataframe\">\n",
       "  <thead>\n",
       "    <tr style=\"text-align: right;\">\n",
       "      <th></th>\n",
       "      <th>ID_VINCULO</th>\n",
       "      <th>co_ope</th>\n",
       "      <th>dias_atraso</th>\n",
       "      <th>dt_rec</th>\n",
       "      <th>dt_inc</th>\n",
       "      <th>dt_base</th>\n",
       "      <th>vlr_avista</th>\n",
       "      <th>vlr_base</th>\n",
       "      <th>vlr_pg</th>\n",
       "      <th>ic_14004</th>\n",
       "      <th>...</th>\n",
       "      <th>ic_tele</th>\n",
       "      <th>ic_sombreado</th>\n",
       "      <th>dt_nasc</th>\n",
       "      <th>sexo</th>\n",
       "      <th>renda</th>\n",
       "      <th>renda_liq</th>\n",
       "      <th>dt_relac</th>\n",
       "      <th>co_cart</th>\n",
       "      <th>co_prof</th>\n",
       "      <th>cep</th>\n",
       "    </tr>\n",
       "  </thead>\n",
       "  <tbody>\n",
       "    <tr>\n",
       "      <th>0</th>\n",
       "      <td>{AB95867B-7F88-4D5E-8E9F-815B57551F48}</td>\n",
       "      <td>203</td>\n",
       "      <td>1210.0</td>\n",
       "      <td>NaN</td>\n",
       "      <td>2022-10-26</td>\n",
       "      <td>2022-10-25</td>\n",
       "      <td>350,44999999999999</td>\n",
       "      <td>1481,0899999999999</td>\n",
       "      <td>NaN</td>\n",
       "      <td>False</td>\n",
       "      <td>...</td>\n",
       "      <td>False</td>\n",
       "      <td>0</td>\n",
       "      <td>1992-01-19</td>\n",
       "      <td>M</td>\n",
       "      <td>2756.56</td>\n",
       "      <td>1921,42</td>\n",
       "      <td>2009-02-06</td>\n",
       "      <td>GV01</td>\n",
       "      <td>710.0</td>\n",
       "      <td>89990000.0</td>\n",
       "    </tr>\n",
       "    <tr>\n",
       "      <th>1</th>\n",
       "      <td>{A21643D4-B428-4245-84A1-73E94F0FC578}</td>\n",
       "      <td>8701</td>\n",
       "      <td>1648.0</td>\n",
       "      <td>NaN</td>\n",
       "      <td>2022-02-22</td>\n",
       "      <td>2022-02-23</td>\n",
       "      <td>0</td>\n",
       "      <td>175,68000000000001</td>\n",
       "      <td>NaN</td>\n",
       "      <td>False</td>\n",
       "      <td>...</td>\n",
       "      <td>False</td>\n",
       "      <td>0</td>\n",
       "      <td>1991-02-05</td>\n",
       "      <td>F</td>\n",
       "      <td>0.00</td>\n",
       "      <td>,00</td>\n",
       "      <td>2010-04-28</td>\n",
       "      <td>GV01</td>\n",
       "      <td>411.0</td>\n",
       "      <td>86310000.0</td>\n",
       "    </tr>\n",
       "    <tr>\n",
       "      <th>2</th>\n",
       "      <td>{AE0FD9F0-5699-4EA2-961A-7A36A129B37D}</td>\n",
       "      <td>195</td>\n",
       "      <td>4321.0</td>\n",
       "      <td>NaN</td>\n",
       "      <td>2022-10-26</td>\n",
       "      <td>2022-10-25</td>\n",
       "      <td>751,88</td>\n",
       "      <td>5786,6000000000004</td>\n",
       "      <td>NaN</td>\n",
       "      <td>False</td>\n",
       "      <td>...</td>\n",
       "      <td>False</td>\n",
       "      <td>0</td>\n",
       "      <td>1978-10-08</td>\n",
       "      <td>M</td>\n",
       "      <td>2500.00</td>\n",
       "      <td>2500,00</td>\n",
       "      <td>1996-03-05</td>\n",
       "      <td>GC01</td>\n",
       "      <td>102.0</td>\n",
       "      <td>29216090.0</td>\n",
       "    </tr>\n",
       "    <tr>\n",
       "      <th>3</th>\n",
       "      <td>{5FDCCFAD-8628-4E8F-B329-64385AB52B3C}</td>\n",
       "      <td>191</td>\n",
       "      <td>2344.0</td>\n",
       "      <td>NaN</td>\n",
       "      <td>2022-10-26</td>\n",
       "      <td>2022-10-25</td>\n",
       "      <td>979,66999999999996</td>\n",
       "      <td>7535,6999999999998</td>\n",
       "      <td>NaN</td>\n",
       "      <td>False</td>\n",
       "      <td>...</td>\n",
       "      <td>False</td>\n",
       "      <td>0</td>\n",
       "      <td>1962-11-02</td>\n",
       "      <td>M</td>\n",
       "      <td>4000.00</td>\n",
       "      <td>4000,00</td>\n",
       "      <td>2012-03-23</td>\n",
       "      <td>GC01</td>\n",
       "      <td>411.0</td>\n",
       "      <td>13295000.0</td>\n",
       "    </tr>\n",
       "    <tr>\n",
       "      <th>4</th>\n",
       "      <td>{5EE2749E-9583-4D30-A525-8DE344E9D9C6}</td>\n",
       "      <td>191</td>\n",
       "      <td>1950.0</td>\n",
       "      <td>NaN</td>\n",
       "      <td>2022-10-26</td>\n",
       "      <td>2022-10-25</td>\n",
       "      <td>421,75</td>\n",
       "      <td>1940,74</td>\n",
       "      <td>NaN</td>\n",
       "      <td>False</td>\n",
       "      <td>...</td>\n",
       "      <td>False</td>\n",
       "      <td>0</td>\n",
       "      <td>1969-10-18</td>\n",
       "      <td>M</td>\n",
       "      <td>0.00</td>\n",
       "      <td>,00</td>\n",
       "      <td>2008-09-08</td>\n",
       "      <td>GV01</td>\n",
       "      <td>549.0</td>\n",
       "      <td>24734315.0</td>\n",
       "    </tr>\n",
       "  </tbody>\n",
       "</table>\n",
       "<p>5 rows × 23 columns</p>\n",
       "</div>"
      ],
      "text/plain": [
       "                               ID_VINCULO  co_ope  dias_atraso dt_rec  \\\n",
       "0  {AB95867B-7F88-4D5E-8E9F-815B57551F48}     203       1210.0    NaN   \n",
       "1  {A21643D4-B428-4245-84A1-73E94F0FC578}    8701       1648.0    NaN   \n",
       "2  {AE0FD9F0-5699-4EA2-961A-7A36A129B37D}     195       4321.0    NaN   \n",
       "3  {5FDCCFAD-8628-4E8F-B329-64385AB52B3C}     191       2344.0    NaN   \n",
       "4  {5EE2749E-9583-4D30-A525-8DE344E9D9C6}     191       1950.0    NaN   \n",
       "\n",
       "       dt_inc     dt_base          vlr_avista            vlr_base vlr_pg  \\\n",
       "0  2022-10-26  2022-10-25  350,44999999999999  1481,0899999999999    NaN   \n",
       "1  2022-02-22  2022-02-23                   0  175,68000000000001    NaN   \n",
       "2  2022-10-26  2022-10-25              751,88  5786,6000000000004    NaN   \n",
       "3  2022-10-26  2022-10-25  979,66999999999996  7535,6999999999998    NaN   \n",
       "4  2022-10-26  2022-10-25              421,75             1940,74    NaN   \n",
       "\n",
       "   ic_14004  ...  ic_tele  ic_sombreado     dt_nasc  sexo    renda renda_liq  \\\n",
       "0     False  ...    False             0  1992-01-19     M  2756.56   1921,42   \n",
       "1     False  ...    False             0  1991-02-05     F     0.00       ,00   \n",
       "2     False  ...    False             0  1978-10-08     M  2500.00   2500,00   \n",
       "3     False  ...    False             0  1962-11-02     M  4000.00   4000,00   \n",
       "4     False  ...    False             0  1969-10-18     M     0.00       ,00   \n",
       "\n",
       "     dt_relac  co_cart co_prof         cep  \n",
       "0  2009-02-06     GV01   710.0  89990000.0  \n",
       "1  2010-04-28     GV01   411.0  86310000.0  \n",
       "2  1996-03-05     GC01   102.0  29216090.0  \n",
       "3  2012-03-23     GC01   411.0  13295000.0  \n",
       "4  2008-09-08     GV01   549.0  24734315.0  \n",
       "\n",
       "[5 rows x 23 columns]"
      ]
     },
     "execution_count": 7,
     "metadata": {},
     "output_type": "execute_result"
    }
   ],
   "source": [
    "df.head()"
   ]
  },
  {
   "cell_type": "code",
   "execution_count": 8,
   "metadata": {},
   "outputs": [],
   "source": [
    "df.dt_rec.fillna(0, inplace=True)"
   ]
  },
  {
   "cell_type": "code",
   "execution_count": 6,
   "metadata": {},
   "outputs": [],
   "source": [
    "with open('../algoritimos/resultado_completos_metrica_algoritimos.pickle', 'rb') as file:\n",
    "    df = pickle.load(file)\n",
    "\n"
   ]
  },
  {
   "cell_type": "code",
   "execution_count": 7,
   "metadata": {},
   "outputs": [],
   "source": [
    "prev = pd.DataFrame(df)"
   ]
  },
  {
   "cell_type": "code",
   "execution_count": 8,
   "metadata": {},
   "outputs": [
    {
     "data": {
      "text/html": [
       "<div>\n",
       "<style scoped>\n",
       "    .dataframe tbody tr th:only-of-type {\n",
       "        vertical-align: middle;\n",
       "    }\n",
       "\n",
       "    .dataframe tbody tr th {\n",
       "        vertical-align: top;\n",
       "    }\n",
       "\n",
       "    .dataframe thead th {\n",
       "        text-align: right;\n",
       "    }\n",
       "</style>\n",
       "<table border=\"1\" class=\"dataframe\">\n",
       "  <thead>\n",
       "    <tr style=\"text-align: right;\">\n",
       "      <th></th>\n",
       "      <th>resultados</th>\n",
       "      <th>inicio</th>\n",
       "      <th>fim</th>\n",
       "    </tr>\n",
       "  </thead>\n",
       "  <tbody>\n",
       "    <tr>\n",
       "      <th>DecisionTree</th>\n",
       "      <td>{'accuracy': 0.9044, 'cv_accuracy': 0.90622857...</td>\n",
       "      <td>2024-01-05 09:07:36</td>\n",
       "      <td>2024-01-05 09:09:30</td>\n",
       "    </tr>\n",
       "    <tr>\n",
       "      <th>RandomForest</th>\n",
       "      <td>{'accuracy': 0.9482333333333334, 'cv_accuracy'...</td>\n",
       "      <td>2024-01-05 09:07:36</td>\n",
       "      <td>2024-01-05 09:09:30</td>\n",
       "    </tr>\n",
       "  </tbody>\n",
       "</table>\n",
       "</div>"
      ],
      "text/plain": [
       "                                                     resultados  \\\n",
       "DecisionTree  {'accuracy': 0.9044, 'cv_accuracy': 0.90622857...   \n",
       "RandomForest  {'accuracy': 0.9482333333333334, 'cv_accuracy'...   \n",
       "\n",
       "                           inicio                  fim  \n",
       "DecisionTree  2024-01-05 09:07:36  2024-01-05 09:09:30  \n",
       "RandomForest  2024-01-05 09:07:36  2024-01-05 09:09:30  "
      ]
     },
     "execution_count": 8,
     "metadata": {},
     "output_type": "execute_result"
    }
   ],
   "source": [
    "prev"
   ]
  },
  {
   "cell_type": "code",
   "execution_count": null,
   "metadata": {},
   "outputs": [
    {
     "data": {
      "text/plain": [
       "4292959140297.0483"
      ]
     },
     "execution_count": 14,
     "metadata": {},
     "output_type": "execute_result"
    }
   ],
   "source": [
    "df.renda.mean()"
   ]
  }
 ],
 "metadata": {
  "kernelspec": {
   "display_name": "env",
   "language": "python",
   "name": "python3"
  },
  "language_info": {
   "codemirror_mode": {
    "name": "ipython",
    "version": 3
   },
   "file_extension": ".py",
   "mimetype": "text/x-python",
   "name": "python",
   "nbconvert_exporter": "python",
   "pygments_lexer": "ipython3",
   "version": "3.12.1"
  }
 },
 "nbformat": 4,
 "nbformat_minor": 2
}
